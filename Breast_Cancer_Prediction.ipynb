{
  "nbformat": 4,
  "nbformat_minor": 0,
  "metadata": {
    "colab": {
      "provenance": [],
      "authorship_tag": "ABX9TyPLDLqIjxR6ssFxNuVAJUDc",
      "include_colab_link": true
    },
    "kernelspec": {
      "name": "python3",
      "display_name": "Python 3"
    },
    "language_info": {
      "name": "python"
    }
  },
  "cells": [
    {
      "cell_type": "markdown",
      "metadata": {
        "id": "view-in-github",
        "colab_type": "text"
      },
      "source": [
        "<a href=\"https://colab.research.google.com/github/Muskan2320/Classification/blob/main/Breast_Cancer_Prediction.ipynb\" target=\"_parent\"><img src=\"https://colab.research.google.com/assets/colab-badge.svg\" alt=\"Open In Colab\"/></a>"
      ]
    },
    {
      "cell_type": "markdown",
      "source": [
        "# Breast Cancer Prediction\n",
        "\n",
        "This lab file works on the breast cancer dataset from the sklearn datasets. This dataset has nearly 30 features but operations on such large number of features require a lot of computations while some of features may not hold that much importance to the target variable.\n",
        "\n",
        "Principal Component Analysis is used to find the features with higher importance and hence, classifying each sample to have either 'Benign' or 'Malignant' that describes the condition to be not cancerous and cancerous respectively."
      ],
      "metadata": {
        "id": "dQcg3MlmfOv9"
      }
    },
    {
      "cell_type": "markdown",
      "source": [
        "Warning library is used to control the warnings of the commands executed. Warning messages are typically issued in situations where it is useful to alert the user of some condition in a program, where that condition (normally) doesn’t warrant raising an exception and terminating the program."
      ],
      "metadata": {
        "id": "eCMwYYdlfFAG"
      }
    },
    {
      "cell_type": "code",
      "source": [
        "import warnings\n",
        "warnings.filterwarnings('ignore')                                               # This removes all the warnings from the output"
      ],
      "metadata": {
        "id": "PJnyUUQhQy6i"
      },
      "execution_count": null,
      "outputs": []
    },
    {
      "cell_type": "code",
      "source": [
        "# The 'Pandas' package is a fast, flexible tool used to analyze data. It helps in reading and updating the files like csv files, excel, etc.\n",
        "import pandas as pd\n",
        "\n",
        "# NumPy is used to deal with matrix\n",
        "import numpy as np\n",
        "\n",
        "# The 'matplotlib' is a visualization package. It is used for creating static, animated, and interactive visualizations.\n",
        "import matplotlib.pyplot as plt\n",
        "\n",
        "# Seaborn is a visualization library based on the matplotlib. Seaborn is the superset of matplotlib. It can be used for drawing attractive and informative statistical graphics.\n",
        "import seaborn as sns"
      ],
      "metadata": {
        "id": "98cIVNjbiWVI"
      },
      "execution_count": null,
      "outputs": []
    },
    {
      "cell_type": "code",
      "execution_count": null,
      "metadata": {
        "colab": {
          "base_uri": "https://localhost:8080/",
          "height": 182
        },
        "id": "I01OQfIFiBLI",
        "outputId": "2f6b1fe7-ed14-404f-dfc9-94e8b9490c3d"
      },
      "outputs": [
        {
          "output_type": "stream",
          "name": "stdout",
          "text": [
            "(569, 31)\n"
          ]
        },
        {
          "output_type": "execute_result",
          "data": {
            "text/plain": [
              "   mean radius  mean texture  mean perimeter  mean area  mean smoothness  \\\n",
              "0        17.99         10.38           122.8     1001.0           0.1184   \n",
              "\n",
              "   mean compactness  mean concavity  mean concave points  mean symmetry  \\\n",
              "0            0.2776          0.3001               0.1471         0.2419   \n",
              "\n",
              "   mean fractal dimension  ...  worst texture  worst perimeter  worst area  \\\n",
              "0                 0.07871  ...          17.33            184.6      2019.0   \n",
              "\n",
              "   worst smoothness  worst compactness  worst concavity  worst concave points  \\\n",
              "0            0.1622             0.6656           0.7119                0.2654   \n",
              "\n",
              "   worst symmetry  worst fractal dimension  label  \n",
              "0          0.4601                   0.1189    0.0  \n",
              "\n",
              "[1 rows x 31 columns]"
            ],
            "text/html": [
              "\n",
              "  <div id=\"df-29dfdd57-0771-46f4-b856-83aab99c9864\" class=\"colab-df-container\">\n",
              "    <div>\n",
              "<style scoped>\n",
              "    .dataframe tbody tr th:only-of-type {\n",
              "        vertical-align: middle;\n",
              "    }\n",
              "\n",
              "    .dataframe tbody tr th {\n",
              "        vertical-align: top;\n",
              "    }\n",
              "\n",
              "    .dataframe thead th {\n",
              "        text-align: right;\n",
              "    }\n",
              "</style>\n",
              "<table border=\"1\" class=\"dataframe\">\n",
              "  <thead>\n",
              "    <tr style=\"text-align: right;\">\n",
              "      <th></th>\n",
              "      <th>mean radius</th>\n",
              "      <th>mean texture</th>\n",
              "      <th>mean perimeter</th>\n",
              "      <th>mean area</th>\n",
              "      <th>mean smoothness</th>\n",
              "      <th>mean compactness</th>\n",
              "      <th>mean concavity</th>\n",
              "      <th>mean concave points</th>\n",
              "      <th>mean symmetry</th>\n",
              "      <th>mean fractal dimension</th>\n",
              "      <th>...</th>\n",
              "      <th>worst texture</th>\n",
              "      <th>worst perimeter</th>\n",
              "      <th>worst area</th>\n",
              "      <th>worst smoothness</th>\n",
              "      <th>worst compactness</th>\n",
              "      <th>worst concavity</th>\n",
              "      <th>worst concave points</th>\n",
              "      <th>worst symmetry</th>\n",
              "      <th>worst fractal dimension</th>\n",
              "      <th>label</th>\n",
              "    </tr>\n",
              "  </thead>\n",
              "  <tbody>\n",
              "    <tr>\n",
              "      <th>0</th>\n",
              "      <td>17.99</td>\n",
              "      <td>10.38</td>\n",
              "      <td>122.8</td>\n",
              "      <td>1001.0</td>\n",
              "      <td>0.1184</td>\n",
              "      <td>0.2776</td>\n",
              "      <td>0.3001</td>\n",
              "      <td>0.1471</td>\n",
              "      <td>0.2419</td>\n",
              "      <td>0.07871</td>\n",
              "      <td>...</td>\n",
              "      <td>17.33</td>\n",
              "      <td>184.6</td>\n",
              "      <td>2019.0</td>\n",
              "      <td>0.1622</td>\n",
              "      <td>0.6656</td>\n",
              "      <td>0.7119</td>\n",
              "      <td>0.2654</td>\n",
              "      <td>0.4601</td>\n",
              "      <td>0.1189</td>\n",
              "      <td>0.0</td>\n",
              "    </tr>\n",
              "  </tbody>\n",
              "</table>\n",
              "<p>1 rows × 31 columns</p>\n",
              "</div>\n",
              "    <div class=\"colab-df-buttons\">\n",
              "\n",
              "  <div class=\"colab-df-container\">\n",
              "    <button class=\"colab-df-convert\" onclick=\"convertToInteractive('df-29dfdd57-0771-46f4-b856-83aab99c9864')\"\n",
              "            title=\"Convert this dataframe to an interactive table.\"\n",
              "            style=\"display:none;\">\n",
              "\n",
              "  <svg xmlns=\"http://www.w3.org/2000/svg\" height=\"24px\" viewBox=\"0 -960 960 960\">\n",
              "    <path d=\"M120-120v-720h720v720H120Zm60-500h600v-160H180v160Zm220 220h160v-160H400v160Zm0 220h160v-160H400v160ZM180-400h160v-160H180v160Zm440 0h160v-160H620v160ZM180-180h160v-160H180v160Zm440 0h160v-160H620v160Z\"/>\n",
              "  </svg>\n",
              "    </button>\n",
              "\n",
              "  <style>\n",
              "    .colab-df-container {\n",
              "      display:flex;\n",
              "      gap: 12px;\n",
              "    }\n",
              "\n",
              "    .colab-df-convert {\n",
              "      background-color: #E8F0FE;\n",
              "      border: none;\n",
              "      border-radius: 50%;\n",
              "      cursor: pointer;\n",
              "      display: none;\n",
              "      fill: #1967D2;\n",
              "      height: 32px;\n",
              "      padding: 0 0 0 0;\n",
              "      width: 32px;\n",
              "    }\n",
              "\n",
              "    .colab-df-convert:hover {\n",
              "      background-color: #E2EBFA;\n",
              "      box-shadow: 0px 1px 2px rgba(60, 64, 67, 0.3), 0px 1px 3px 1px rgba(60, 64, 67, 0.15);\n",
              "      fill: #174EA6;\n",
              "    }\n",
              "\n",
              "    .colab-df-buttons div {\n",
              "      margin-bottom: 4px;\n",
              "    }\n",
              "\n",
              "    [theme=dark] .colab-df-convert {\n",
              "      background-color: #3B4455;\n",
              "      fill: #D2E3FC;\n",
              "    }\n",
              "\n",
              "    [theme=dark] .colab-df-convert:hover {\n",
              "      background-color: #434B5C;\n",
              "      box-shadow: 0px 1px 3px 1px rgba(0, 0, 0, 0.15);\n",
              "      filter: drop-shadow(0px 1px 2px rgba(0, 0, 0, 0.3));\n",
              "      fill: #FFFFFF;\n",
              "    }\n",
              "  </style>\n",
              "\n",
              "    <script>\n",
              "      const buttonEl =\n",
              "        document.querySelector('#df-29dfdd57-0771-46f4-b856-83aab99c9864 button.colab-df-convert');\n",
              "      buttonEl.style.display =\n",
              "        google.colab.kernel.accessAllowed ? 'block' : 'none';\n",
              "\n",
              "      async function convertToInteractive(key) {\n",
              "        const element = document.querySelector('#df-29dfdd57-0771-46f4-b856-83aab99c9864');\n",
              "        const dataTable =\n",
              "          await google.colab.kernel.invokeFunction('convertToInteractive',\n",
              "                                                    [key], {});\n",
              "        if (!dataTable) return;\n",
              "\n",
              "        const docLinkHtml = 'Like what you see? Visit the ' +\n",
              "          '<a target=\"_blank\" href=https://colab.research.google.com/notebooks/data_table.ipynb>data table notebook</a>'\n",
              "          + ' to learn more about interactive tables.';\n",
              "        element.innerHTML = '';\n",
              "        dataTable['output_type'] = 'display_data';\n",
              "        await google.colab.output.renderOutput(dataTable, element);\n",
              "        const docLink = document.createElement('div');\n",
              "        docLink.innerHTML = docLinkHtml;\n",
              "        element.appendChild(docLink);\n",
              "      }\n",
              "    </script>\n",
              "  </div>\n",
              "\n",
              "    </div>\n",
              "  </div>\n"
            ]
          },
          "metadata": {},
          "execution_count": 3
        }
      ],
      "source": [
        "# Load dataset from sklearn datasets\n",
        "from sklearn.datasets import load_breast_cancer\n",
        "\n",
        "# Get the features or columns of dataset\n",
        "features = load_breast_cancer().data\n",
        "\n",
        "# Get the labels of each row that is 'Benign' or 'Malignant'\n",
        "labels = np.reshape(load_breast_cancer().target, (569,1))\n",
        "\n",
        "data = np.concatenate([features, labels], axis=1)                               # Join the feature columns and label column\n",
        "data = pd.DataFrame(data)                                                       # Convert to dataframe\n",
        "\n",
        "# Get column or feature names\n",
        "col_name = load_breast_cancer().feature_names                                   # col_name is a ndarray consisting names of different features\n",
        "col_name = np.append(col_name, 'label')                                         # Appending the 'label' column that is the name of the target column\n",
        "# OR\n",
        "# col_name = list(load_breast_cancer().feature_names)\n",
        "# col_name.append('label')\n",
        "\n",
        "data.columns = col_name                                                         # Assigning column names to the dataframe\n",
        "print(data.shape)                                                               # Get shape of data\n",
        "data.head(1)                                                                    # Get first row of data"
      ]
    },
    {
      "cell_type": "code",
      "source": [
        "print(col_name)"
      ],
      "metadata": {
        "colab": {
          "base_uri": "https://localhost:8080/"
        },
        "id": "lTALpNMZjlBp",
        "outputId": "4a813478-2ef2-49d9-e47d-fafcf6b4fa67"
      },
      "execution_count": null,
      "outputs": [
        {
          "output_type": "stream",
          "name": "stdout",
          "text": [
            "['mean radius' 'mean texture' 'mean perimeter' 'mean area'\n",
            " 'mean smoothness' 'mean compactness' 'mean concavity'\n",
            " 'mean concave points' 'mean symmetry' 'mean fractal dimension'\n",
            " 'radius error' 'texture error' 'perimeter error' 'area error'\n",
            " 'smoothness error' 'compactness error' 'concavity error'\n",
            " 'concave points error' 'symmetry error' 'fractal dimension error'\n",
            " 'worst radius' 'worst texture' 'worst perimeter' 'worst area'\n",
            " 'worst smoothness' 'worst compactness' 'worst concavity'\n",
            " 'worst concave points' 'worst symmetry' 'worst fractal dimension' 'label']\n"
          ]
        }
      ]
    },
    {
      "cell_type": "markdown",
      "source": [
        "# Defining target variable"
      ],
      "metadata": {
        "id": "vEvNotossbfd"
      }
    },
    {
      "cell_type": "code",
      "source": [
        "X = data.drop(['label'], axis=1)\n",
        "Y = data['label']"
      ],
      "metadata": {
        "id": "pnJ1FLUTngjL"
      },
      "execution_count": null,
      "outputs": []
    },
    {
      "cell_type": "code",
      "source": [
        "X.shape, Y.shape"
      ],
      "metadata": {
        "colab": {
          "base_uri": "https://localhost:8080/"
        },
        "id": "7-pjJieIsstX",
        "outputId": "0f00c287-27d1-437f-a9d0-270c3877c121"
      },
      "execution_count": null,
      "outputs": [
        {
          "output_type": "execute_result",
          "data": {
            "text/plain": [
              "((569, 30), (569,))"
            ]
          },
          "metadata": {},
          "execution_count": 7
        }
      ]
    },
    {
      "cell_type": "markdown",
      "source": [
        "# Applying PCA for extracting important features"
      ],
      "metadata": {
        "id": "6dHLSTVts8KG"
      }
    },
    {
      "cell_type": "markdown",
      "source": [
        "## Standardization of data\n",
        "\n",
        "Normalizing the data to unit variance or standard deviation"
      ],
      "metadata": {
        "id": "nxjmEBTXtGMZ"
      }
    },
    {
      "cell_type": "code",
      "source": [
        "from sklearn.preprocessing import StandardScaler\n",
        "\n",
        "X_std = StandardScaler().fit_transform(X)                                       # scale data to unit standard deviation\n",
        "                                                                                # fit_transform() -> Fit to data, then transform it\n",
        "\n",
        "np.std(X_std)                                                                   # Get standard deviation"
      ],
      "metadata": {
        "colab": {
          "base_uri": "https://localhost:8080/"
        },
        "id": "4-qumOI5svY4",
        "outputId": "5c121dd7-fbd5-491c-de26-ce83a23b7b1d"
      },
      "execution_count": null,
      "outputs": [
        {
          "output_type": "execute_result",
          "data": {
            "text/plain": [
              "1.0"
            ]
          },
          "metadata": {},
          "execution_count": 8
        }
      ]
    },
    {
      "cell_type": "markdown",
      "source": [
        "## Computing covariance matrix"
      ],
      "metadata": {
        "id": "cko90lNm0XMB"
      }
    },
    {
      "cell_type": "code",
      "source": [
        "mean_vec = np.mean(X_std, axis=0)                                               # Calculating mean for each feature\n",
        "\n",
        "# Covariance matrix measure of how much two random variables gets change together. It's diagonal gives the individual variances.\n",
        "# .T -> Transpose the matrix\n",
        "# .dot -> Gives the dot product\n",
        "covariance_matrix = 1/ (X_std.shape[0] - 1) * (X_std - mean_vec).T.dot(X_std - mean_vec)        # OR np.cov(X_std.T)"
      ],
      "metadata": {
        "id": "OVgbFlah3doj"
      },
      "execution_count": null,
      "outputs": []
    },
    {
      "cell_type": "markdown",
      "source": [
        "## Calculating eigenvectors and eigenvalues\n",
        "\n",
        "Eigen vectors are called principal components"
      ],
      "metadata": {
        "id": "_aLOkx3rTc3R"
      }
    },
    {
      "cell_type": "code",
      "source": [
        "# numpy has 'linalg' module that is linear algebra module. This module has eig() function which returns the eigen vectors and their corresponding eigen values.\n",
        "eigen_val, eigen_vec = np.linalg.eig(covariance_matrix)"
      ],
      "metadata": {
        "id": "NTSLSRlYtBrj"
      },
      "execution_count": null,
      "outputs": []
    },
    {
      "cell_type": "markdown",
      "source": [
        "## Computing Principal Components"
      ],
      "metadata": {
        "id": "B73l4k122buf"
      }
    },
    {
      "cell_type": "code",
      "source": [
        "eigen_pair = []\n",
        "\n",
        "for i in range(len(eigen_val)):\n",
        "  eigen_pair.append((np.abs(eigen_val[i]), eigen_vec[i]))                       # Appending pairs of eigen value and eigen vector to te list. np.abs() return the absolute value\n",
        "\n",
        "eigen_pair.sort(key=lambda x: x[0], reverse=True)                               # Sort the pairs of list on the basis of eigen value in descending order\n",
        "\n",
        "print(\"First three eigen_values: \")\n",
        "eigen_pair[0][0], eigen_pair[1][0], eigen_pair[2][0]"
      ],
      "metadata": {
        "colab": {
          "base_uri": "https://localhost:8080/"
        },
        "id": "IQLHJ_nwtBlM",
        "outputId": "4c802abc-3c2f-4164-adfa-2e5a794184b4"
      },
      "execution_count": null,
      "outputs": [
        {
          "output_type": "stream",
          "name": "stdout",
          "text": [
            "First three eigen_values: \n"
          ]
        },
        {
          "output_type": "execute_result",
          "data": {
            "text/plain": [
              "(13.304990794374568, 5.701374603726145, 2.8229101550062325)"
            ]
          },
          "metadata": {},
          "execution_count": 11
        }
      ]
    },
    {
      "cell_type": "markdown",
      "source": [
        "Ploting Scree Plot\n",
        "\n",
        "Visualize the percentage of variation explained by each principal component scree plot is created"
      ],
      "metadata": {
        "id": "gcc8_Ltc747-"
      }
    },
    {
      "cell_type": "code",
      "source": [
        "total = np.sum(eigen_val)\n",
        "eig_val = 100* eigen_val/total                                                  # Finding percentage of each eigen value\n",
        "eig_val = sorted(eig_val, reverse=True)                                         # Sort percentage in descending order\n",
        "\n",
        "with plt.style.context('dark_background'):\n",
        "  plt.figure(figsize = (10,6))                                                  # Adjust the figure size\n",
        "  plt.xlabel(\"Number of Principal Components\")                                  # Label the x-axis\n",
        "  plt.ylabel(\"Percentage of variance\")                                          # Label the y-axis\n",
        "  plt.bar(range(30), eig_val[:30], color = 'pink')                              # Plot the bar plot\n",
        "  plt.plot(range(30), np.cumsum(eig_val[:30]), color = 'blue')                  # Plot scree plot displaying cummulative sum of percentages\n",
        "  plt.scatter(range(30), np.cumsum(eig_val[:30]), color = 'green')              # Plot scatter plot"
      ],
      "metadata": {
        "colab": {
          "base_uri": "https://localhost:8080/",
          "height": 542
        },
        "id": "FypQ5POQ1YFg",
        "outputId": "078a87ba-bc79-4ba5-eb40-594a47972ce9"
      },
      "execution_count": null,
      "outputs": [
        {
          "output_type": "display_data",
          "data": {
            "text/plain": [
              "<Figure size 1000x600 with 1 Axes>"
            ],
            "image/png": "[encoded data removed]"
          },
          "metadata": {}
        }
      ]
    },
    {
      "cell_type": "markdown",
      "source": [
        "## Reducing dimensions of dataset"
      ],
      "metadata": {
        "id": "TU4-wrFMEcTA"
      }
    },
    {
      "cell_type": "code",
      "source": [
        "# hstack places the first six eigen vectors or principal components in column wise manner\n",
        "# For example, given list [1,2] hstacking them gives [[1,1], [2,2]]\n",
        "matrix = np.hstack((eigen_pair[0][1].reshape(30,1),\n",
        "                    eigen_pair[1][1].reshape(30,1),\n",
        "                    eigen_pair[2][1].reshape(30,1),\n",
        "                    eigen_pair[3][1].reshape(30,1),\n",
        "                    eigen_pair[4][1].reshape(30,1),\n",
        "                    eigen_pair[5][1].reshape(30,1),))\n",
        "\n",
        "reduced = X_std.dot(matrix)\n",
        "print(reduced)"
      ],
      "metadata": {
        "colab": {
          "base_uri": "https://localhost:8080/"
        },
        "id": "KGQ4FTuO-atg",
        "outputId": "a59bd389-c089-442d-80e7-287f1c1d398a"
      },
      "execution_count": null,
      "outputs": [
        {
          "output_type": "stream",
          "name": "stdout",
          "text": [
            "[[ 5.01661220e-01 -1.39557832e+00 -8.35384002e-01  2.24501418e+00\n",
            "  -3.38985795e-01 -1.18462561e-01]\n",
            " [-2.58645613e-01 -1.65766184e+00 -3.41466902e-01  1.24420920e+00\n",
            "   6.12820419e-02 -1.68527252e-03]\n",
            " [-2.95343369e-01 -1.56418753e+00 -9.07330588e-01  5.64335703e-01\n",
            "   1.12565718e+00  3.73454675e-01]\n",
            " ...\n",
            " [-3.30000240e-01 -1.30750684e-01 -6.21118313e-01 -4.53746600e-01\n",
            "   6.13898455e-01 -2.86931158e-02]\n",
            " [ 1.36849571e-01 -1.61401230e+00 -1.65591623e+00  5.62239201e-01\n",
            "   2.34497684e+00 -2.89380334e-01]\n",
            " [ 2.59752061e-01  5.93863538e-01  1.06851396e+00 -1.42412279e+00\n",
            "  -2.06030722e+00  1.18223730e+00]]\n"
          ]
        }
      ]
    },
    {
      "cell_type": "code",
      "source": [
        "# Creating a new reduced dataframe with first five mot important principal components\n",
        "reduced_data = pd.DataFrame(columns = ['PC1', 'PC2', 'PC3', 'PC4', 'PC5', 'Label'])\n",
        "\n",
        "for i in range(len(reduced)):\n",
        "  dic = dict()\n",
        "\n",
        "  dic['PC1'] = reduced[i, 0]\n",
        "  dic['PC2'] = reduced[i, 1]\n",
        "  dic['PC3'] = reduced[i, 2]\n",
        "  dic['PC4'] = reduced[i, 3]\n",
        "  dic['PC5'] = reduced[i, 4]\n",
        "\n",
        "  if labels[i][0] == 0:\n",
        "    dic['Label'] = 'Benign'\n",
        "  else:\n",
        "    dic['Label'] = 'Malignant'\n",
        "\n",
        "  reduced_data = reduced_data.append(dic, ignore_index = True)\n",
        "\n",
        "reduced_data.head()"
      ],
      "metadata": {
        "colab": {
          "base_uri": "https://localhost:8080/",
          "height": 206
        },
        "id": "8T91kdE1E4kR",
        "outputId": "4d0be57a-ddd9-45f1-b2b4-a4527341d4fb"
      },
      "execution_count": null,
      "outputs": [
        {
          "output_type": "execute_result",
          "data": {
            "text/plain": [
              "        PC1       PC2       PC3       PC4       PC5   Label\n",
              "0  0.501661 -1.395578 -0.835384  2.245014 -0.338986  Benign\n",
              "1 -0.258646 -1.657662 -0.341467  1.244209  0.061282  Benign\n",
              "2 -0.295343 -1.564188 -0.907331  0.564336  1.125657  Benign\n",
              "3  1.823849 -1.630373 -0.903780 -0.519178  1.203066  Benign\n",
              "4  0.130931 -1.186539 -0.642647  1.581072 -0.010264  Benign"
            ],
            "text/html": [
              "\n",
              "  <div id=\"df-fed99046-bb77-4a56-a2ab-bee408ab02d0\" class=\"colab-df-container\">\n",
              "    <div>\n",
              "<style scoped>\n",
              "    .dataframe tbody tr th:only-of-type {\n",
              "        vertical-align: middle;\n",
              "    }\n",
              "\n",
              "    .dataframe tbody tr th {\n",
              "        vertical-align: top;\n",
              "    }\n",
              "\n",
              "    .dataframe thead th {\n",
              "        text-align: right;\n",
              "    }\n",
              "</style>\n",
              "<table border=\"1\" class=\"dataframe\">\n",
              "  <thead>\n",
              "    <tr style=\"text-align: right;\">\n",
              "      <th></th>\n",
              "      <th>PC1</th>\n",
              "      <th>PC2</th>\n",
              "      <th>PC3</th>\n",
              "      <th>PC4</th>\n",
              "      <th>PC5</th>\n",
              "      <th>Label</th>\n",
              "    </tr>\n",
              "  </thead>\n",
              "  <tbody>\n",
              "    <tr>\n",
              "      <th>0</th>\n",
              "      <td>0.501661</td>\n",
              "      <td>-1.395578</td>\n",
              "      <td>-0.835384</td>\n",
              "      <td>2.245014</td>\n",
              "      <td>-0.338986</td>\n",
              "      <td>Benign</td>\n",
              "    </tr>\n",
              "    <tr>\n",
              "      <th>1</th>\n",
              "      <td>-0.258646</td>\n",
              "      <td>-1.657662</td>\n",
              "      <td>-0.341467</td>\n",
              "      <td>1.244209</td>\n",
              "      <td>0.061282</td>\n",
              "      <td>Benign</td>\n",
              "    </tr>\n",
              "    <tr>\n",
              "      <th>2</th>\n",
              "      <td>-0.295343</td>\n",
              "      <td>-1.564188</td>\n",
              "      <td>-0.907331</td>\n",
              "      <td>0.564336</td>\n",
              "      <td>1.125657</td>\n",
              "      <td>Benign</td>\n",
              "    </tr>\n",
              "    <tr>\n",
              "      <th>3</th>\n",
              "      <td>1.823849</td>\n",
              "      <td>-1.630373</td>\n",
              "      <td>-0.903780</td>\n",
              "      <td>-0.519178</td>\n",
              "      <td>1.203066</td>\n",
              "      <td>Benign</td>\n",
              "    </tr>\n",
              "    <tr>\n",
              "      <th>4</th>\n",
              "      <td>0.130931</td>\n",
              "      <td>-1.186539</td>\n",
              "      <td>-0.642647</td>\n",
              "      <td>1.581072</td>\n",
              "      <td>-0.010264</td>\n",
              "      <td>Benign</td>\n",
              "    </tr>\n",
              "  </tbody>\n",
              "</table>\n",
              "</div>\n",
              "    <div class=\"colab-df-buttons\">\n",
              "\n",
              "  <div class=\"colab-df-container\">\n",
              "    <button class=\"colab-df-convert\" onclick=\"convertToInteractive('df-fed99046-bb77-4a56-a2ab-bee408ab02d0')\"\n",
              "            title=\"Convert this dataframe to an interactive table.\"\n",
              "            style=\"display:none;\">\n",
              "\n",
              "  <svg xmlns=\"http://www.w3.org/2000/svg\" height=\"24px\" viewBox=\"0 -960 960 960\">\n",
              "    <path d=\"M120-120v-720h720v720H120Zm60-500h600v-160H180v160Zm220 220h160v-160H400v160Zm0 220h160v-160H400v160ZM180-400h160v-160H180v160Zm440 0h160v-160H620v160ZM180-180h160v-160H180v160Zm440 0h160v-160H620v160Z\"/>\n",
              "  </svg>\n",
              "    </button>\n",
              "\n",
              "  <style>\n",
              "    .colab-df-container {\n",
              "      display:flex;\n",
              "      gap: 12px;\n",
              "    }\n",
              "\n",
              "    .colab-df-convert {\n",
              "      background-color: #E8F0FE;\n",
              "      border: none;\n",
              "      border-radius: 50%;\n",
              "      cursor: pointer;\n",
              "      display: none;\n",
              "      fill: #1967D2;\n",
              "      height: 32px;\n",
              "      padding: 0 0 0 0;\n",
              "      width: 32px;\n",
              "    }\n",
              "\n",
              "    .colab-df-convert:hover {\n",
              "      background-color: #E2EBFA;\n",
              "      box-shadow: 0px 1px 2px rgba(60, 64, 67, 0.3), 0px 1px 3px 1px rgba(60, 64, 67, 0.15);\n",
              "      fill: #174EA6;\n",
              "    }\n",
              "\n",
              "    .colab-df-buttons div {\n",
              "      margin-bottom: 4px;\n",
              "    }\n",
              "\n",
              "    [theme=dark] .colab-df-convert {\n",
              "      background-color: #3B4455;\n",
              "      fill: #D2E3FC;\n",
              "    }\n",
              "\n",
              "    [theme=dark] .colab-df-convert:hover {\n",
              "      background-color: #434B5C;\n",
              "      box-shadow: 0px 1px 3px 1px rgba(0, 0, 0, 0.15);\n",
              "      filter: drop-shadow(0px 1px 2px rgba(0, 0, 0, 0.3));\n",
              "      fill: #FFFFFF;\n",
              "    }\n",
              "  </style>\n",
              "\n",
              "    <script>\n",
              "      const buttonEl =\n",
              "        document.querySelector('#df-fed99046-bb77-4a56-a2ab-bee408ab02d0 button.colab-df-convert');\n",
              "      buttonEl.style.display =\n",
              "        google.colab.kernel.accessAllowed ? 'block' : 'none';\n",
              "\n",
              "      async function convertToInteractive(key) {\n",
              "        const element = document.querySelector('#df-fed99046-bb77-4a56-a2ab-bee408ab02d0');\n",
              "        const dataTable =\n",
              "          await google.colab.kernel.invokeFunction('convertToInteractive',\n",
              "                                                    [key], {});\n",
              "        if (!dataTable) return;\n",
              "\n",
              "        const docLinkHtml = 'Like what you see? Visit the ' +\n",
              "          '<a target=\"_blank\" href=https://colab.research.google.com/notebooks/data_table.ipynb>data table notebook</a>'\n",
              "          + ' to learn more about interactive tables.';\n",
              "        element.innerHTML = '';\n",
              "        dataTable['output_type'] = 'display_data';\n",
              "        await google.colab.output.renderOutput(dataTable, element);\n",
              "        const docLink = document.createElement('div');\n",
              "        docLink.innerHTML = docLinkHtml;\n",
              "        element.appendChild(docLink);\n",
              "      }\n",
              "    </script>\n",
              "  </div>\n",
              "\n",
              "\n",
              "<div id=\"df-2366b9c3-0aaa-4b44-9c5c-4ba8660918d3\">\n",
              "  <button class=\"colab-df-quickchart\" onclick=\"quickchart('df-2366b9c3-0aaa-4b44-9c5c-4ba8660918d3')\"\n",
              "            title=\"Suggest charts.\"\n",
              "            style=\"display:none;\">\n",
              "\n",
              "<svg xmlns=\"http://www.w3.org/2000/svg\" height=\"24px\"viewBox=\"0 0 24 24\"\n",
              "     width=\"24px\">\n",
              "    <g>\n",
              "        <path d=\"M19 3H5c-1.1 0-2 .9-2 2v14c0 1.1.9 2 2 2h14c1.1 0 2-.9 2-2V5c0-1.1-.9-2-2-2zM9 17H7v-7h2v7zm4 0h-2V7h2v10zm4 0h-2v-4h2v4z\"/>\n",
              "    </g>\n",
              "</svg>\n",
              "  </button>\n",
              "\n",
              "<style>\n",
              "  .colab-df-quickchart {\n",
              "    background-color: #E8F0FE;\n",
              "    border: none;\n",
              "    border-radius: 50%;\n",
              "    cursor: pointer;\n",
              "    display: none;\n",
              "    fill: #1967D2;\n",
              "    height: 32px;\n",
              "    padding: 0 0 0 0;\n",
              "    width: 32px;\n",
              "  }\n",
              "\n",
              "  .colab-df-quickchart:hover {\n",
              "    background-color: #E2EBFA;\n",
              "    box-shadow: 0px 1px 2px rgba(60, 64, 67, 0.3), 0px 1px 3px 1px rgba(60, 64, 67, 0.15);\n",
              "    fill: #174EA6;\n",
              "  }\n",
              "\n",
              "  [theme=dark] .colab-df-quickchart {\n",
              "    background-color: #3B4455;\n",
              "    fill: #D2E3FC;\n",
              "  }\n",
              "\n",
              "  [theme=dark] .colab-df-quickchart:hover {\n",
              "    background-color: #434B5C;\n",
              "    box-shadow: 0px 1px 3px 1px rgba(0, 0, 0, 0.15);\n",
              "    filter: drop-shadow(0px 1px 2px rgba(0, 0, 0, 0.3));\n",
              "    fill: #FFFFFF;\n",
              "  }\n",
              "</style>\n",
              "\n",
              "  <script>\n",
              "    async function quickchart(key) {\n",
              "      const charts = await google.colab.kernel.invokeFunction(\n",
              "          'suggestCharts', [key], {});\n",
              "    }\n",
              "    (() => {\n",
              "      let quickchartButtonEl =\n",
              "        document.querySelector('#df-2366b9c3-0aaa-4b44-9c5c-4ba8660918d3 button');\n",
              "      quickchartButtonEl.style.display =\n",
              "        google.colab.kernel.accessAllowed ? 'block' : 'none';\n",
              "    })();\n",
              "  </script>\n",
              "</div>\n",
              "    </div>\n",
              "  </div>\n"
            ]
          },
          "metadata": {},
          "execution_count": 14
        }
      ]
    },
    {
      "cell_type": "code",
      "source": [
        "reduced_data['Label'].value_counts()                                            # Get the count of each unique category in column"
      ],
      "metadata": {
        "colab": {
          "base_uri": "https://localhost:8080/"
        },
        "id": "E_nEyzzoMW4G",
        "outputId": "1b6fe017-6be0-4d24-f2f3-f85bc4bb7c29"
      },
      "execution_count": null,
      "outputs": [
        {
          "output_type": "execute_result",
          "data": {
            "text/plain": [
              "Malignant    357\n",
              "Benign       212\n",
              "Name: Label, dtype: int64"
            ]
          },
          "metadata": {},
          "execution_count": 15
        }
      ]
    },
    {
      "cell_type": "markdown",
      "source": [
        "# Split data"
      ],
      "metadata": {
        "id": "FjYNX9G3XnD_"
      }
    },
    {
      "cell_type": "markdown",
      "source": [
        "Define dependent and independent variable of data"
      ],
      "metadata": {
        "id": "JKLZ1rBerkqB"
      }
    },
    {
      "cell_type": "code",
      "source": [
        "X = reduced_data.drop(['Label'], axis=1)\n",
        "Y = reduced_data['Label']"
      ],
      "metadata": {
        "id": "jv0biYq9khAX"
      },
      "execution_count": null,
      "outputs": []
    },
    {
      "cell_type": "markdown",
      "source": [
        "Split the data in test data and training data"
      ],
      "metadata": {
        "id": "VKaukPlnr6e4"
      }
    },
    {
      "cell_type": "code",
      "source": [
        "from sklearn.model_selection import train_test_split\n",
        "\n",
        "# Specifying the test size to 0.3 means splitting the data in 70% train data and 30% test data. It can also be done using train_size = 0.3\n",
        "# Specifying the random_state means specifying the seed as row are assigned to train and test set randomly.\n",
        "X_train, X_test, Y_train, Y_test = train_test_split(X, Y, test_size=0.3, random_state = 24)"
      ],
      "metadata": {
        "id": "yMzJ7EDZXIWD"
      },
      "execution_count": null,
      "outputs": []
    },
    {
      "cell_type": "markdown",
      "source": [
        "# Model"
      ],
      "metadata": {
        "id": "jeuqx2uIXpLW"
      }
    },
    {
      "cell_type": "markdown",
      "source": [
        "We are using logistic regression for prediction. Though the name says regression but it is generally used for binary classification problem.\n",
        "\n",
        "This type of statistical model (also known as logit model) is often used for classification and predictive analytics. Logistic regression estimates the probability of an event occurring."
      ],
      "metadata": {
        "id": "HXCE21CYsYpt"
      }
    },
    {
      "cell_type": "code",
      "source": [
        "from sklearn.linear_model import LogisticRegression\n",
        "\n",
        "model = LogisticRegression()\n",
        "model.fit(X_train, Y_train)                                                     # Train model on train dataset"
      ],
      "metadata": {
        "id": "BQTRD3GmXq5p",
        "colab": {
          "base_uri": "https://localhost:8080/",
          "height": 74
        },
        "outputId": "0638282c-4640-4a8a-df3b-c600f872a3aa"
      },
      "execution_count": null,
      "outputs": [
        {
          "output_type": "execute_result",
          "data": {
            "text/plain": [
              "LogisticRegression()"
            ],
            "text/html": [
              "<style>#sk-container-id-1 {color: black;background-color: white;}#sk-container-id-1 pre{padding: 0;}#sk-container-id-1 div.sk-toggleable {background-color: white;}#sk-container-id-1 label.sk-toggleable__label {cursor: pointer;display: block;width: 100%;margin-bottom: 0;padding: 0.3em;box-sizing: border-box;text-align: center;}#sk-container-id-1 label.sk-toggleable__label-arrow:before {content: \"▸\";float: left;margin-right: 0.25em;color: #696969;}#sk-container-id-1 label.sk-toggleable__label-arrow:hover:before {color: black;}#sk-container-id-1 div.sk-estimator:hover label.sk-toggleable__label-arrow:before {color: black;}#sk-container-id-1 div.sk-toggleable__content {max-height: 0;max-width: 0;overflow: hidden;text-align: left;background-color: #f0f8ff;}#sk-container-id-1 div.sk-toggleable__content pre {margin: 0.2em;color: black;border-radius: 0.25em;background-color: #f0f8ff;}#sk-container-id-1 input.sk-toggleable__control:checked~div.sk-toggleable__content {max-height: 200px;max-width: 100%;overflow: auto;}#sk-container-id-1 input.sk-toggleable__control:checked~label.sk-toggleable__label-arrow:before {content: \"▾\";}#sk-container-id-1 div.sk-estimator input.sk-toggleable__control:checked~label.sk-toggleable__label {background-color: #d4ebff;}#sk-container-id-1 div.sk-label input.sk-toggleable__control:checked~label.sk-toggleable__label {background-color: #d4ebff;}#sk-container-id-1 input.sk-hidden--visually {border: 0;clip: rect(1px 1px 1px 1px);clip: rect(1px, 1px, 1px, 1px);height: 1px;margin: -1px;overflow: hidden;padding: 0;position: absolute;width: 1px;}#sk-container-id-1 div.sk-estimator {font-family: monospace;background-color: #f0f8ff;border: 1px dotted black;border-radius: 0.25em;box-sizing: border-box;margin-bottom: 0.5em;}#sk-container-id-1 div.sk-estimator:hover {background-color: #d4ebff;}#sk-container-id-1 div.sk-parallel-item::after {content: \"\";width: 100%;border-bottom: 1px solid gray;flex-grow: 1;}#sk-container-id-1 div.sk-label:hover label.sk-toggleable__label {background-color: #d4ebff;}#sk-container-id-1 div.sk-serial::before {content: \"\";position: absolute;border-left: 1px solid gray;box-sizing: border-box;top: 0;bottom: 0;left: 50%;z-index: 0;}#sk-container-id-1 div.sk-serial {display: flex;flex-direction: column;align-items: center;background-color: white;padding-right: 0.2em;padding-left: 0.2em;position: relative;}#sk-container-id-1 div.sk-item {position: relative;z-index: 1;}#sk-container-id-1 div.sk-parallel {display: flex;align-items: stretch;justify-content: center;background-color: white;position: relative;}#sk-container-id-1 div.sk-item::before, #sk-container-id-1 div.sk-parallel-item::before {content: \"\";position: absolute;border-left: 1px solid gray;box-sizing: border-box;top: 0;bottom: 0;left: 50%;z-index: -1;}#sk-container-id-1 div.sk-parallel-item {display: flex;flex-direction: column;z-index: 1;position: relative;background-color: white;}#sk-container-id-1 div.sk-parallel-item:first-child::after {align-self: flex-end;width: 50%;}#sk-container-id-1 div.sk-parallel-item:last-child::after {align-self: flex-start;width: 50%;}#sk-container-id-1 div.sk-parallel-item:only-child::after {width: 0;}#sk-container-id-1 div.sk-dashed-wrapped {border: 1px dashed gray;margin: 0 0.4em 0.5em 0.4em;box-sizing: border-box;padding-bottom: 0.4em;background-color: white;}#sk-container-id-1 div.sk-label label {font-family: monospace;font-weight: bold;display: inline-block;line-height: 1.2em;}#sk-container-id-1 div.sk-label-container {text-align: center;}#sk-container-id-1 div.sk-container {/* jupyter's `normalize.less` sets `[hidden] { display: none; }` but bootstrap.min.css set `[hidden] { display: none !important; }` so we also need the `!important` here to be able to override the default hidden behavior on the sphinx rendered scikit-learn.org. See: https://github.com/scikit-learn/scikit-learn/issues/21755 */display: inline-block !important;position: relative;}#sk-container-id-1 div.sk-text-repr-fallback {display: none;}</style><div id=\"sk-container-id-1\" class=\"sk-top-container\"><div class=\"sk-text-repr-fallback\"><pre>LogisticRegression()</pre><b>In a Jupyter environment, please rerun this cell to show the HTML representation or trust the notebook. <br />On GitHub, the HTML representation is unable to render, please try loading this page with nbviewer.org.</b></div><div class=\"sk-container\" hidden><div class=\"sk-item\"><div class=\"sk-estimator sk-toggleable\"><input class=\"sk-toggleable__control sk-hidden--visually\" id=\"sk-estimator-id-1\" type=\"checkbox\" checked><label for=\"sk-estimator-id-1\" class=\"sk-toggleable__label sk-toggleable__label-arrow\">LogisticRegression</label><div class=\"sk-toggleable__content\"><pre>LogisticRegression()</pre></div></div></div></div></div>"
            ]
          },
          "metadata": {},
          "execution_count": 18
        }
      ]
    },
    {
      "cell_type": "markdown",
      "source": [
        "## Prediction"
      ],
      "metadata": {
        "id": "TeE_1XtWlbEm"
      }
    },
    {
      "cell_type": "code",
      "source": [
        "y_pred = model.predict(X_test)                                                  # Predict the label on test data\n",
        "\n",
        "print(\"Accuracy:\", model.score(X_test, Y_test))                                 # Get the accuracy of model"
      ],
      "metadata": {
        "id": "DBJruPJnlam6",
        "colab": {
          "base_uri": "https://localhost:8080/"
        },
        "outputId": "379816c8-3279-43b1-be4b-d9ee9f685182"
      },
      "execution_count": null,
      "outputs": [
        {
          "output_type": "stream",
          "name": "stdout",
          "text": [
            "Accuracy: 0.9707602339181286\n"
          ]
        }
      ]
    },
    {
      "cell_type": "markdown",
      "source": [
        "## Visualization"
      ],
      "metadata": {
        "id": "UE-R_LC8xf7j"
      }
    },
    {
      "cell_type": "code",
      "source": [
        "# Return probablities of each classification label in the form of nd-array (prob(0), prob(1)) that is probability of occurring and not occurring of each label\n",
        "y_prob = model.predict_proba(X_test)\n",
        "\n",
        "visual = {'Probability':y_prob[:, 1], 'Label':Y_test}\n",
        "df = pd.DataFrame(visual)\n",
        "\n",
        "sns.stripplot(x='Label', y='Probability', data=df, hue='Label')"
      ],
      "metadata": {
        "colab": {
          "base_uri": "https://localhost:8080/",
          "height": 466
        },
        "id": "GWHVdZsmxfX9",
        "outputId": "6e5f0c97-f06f-46c2-c9e3-c452ef3657e7"
      },
      "execution_count": null,
      "outputs": [
        {
          "output_type": "execute_result",
          "data": {
            "text/plain": [
              "<Axes: xlabel='Label', ylabel='Probability'>"
            ]
          },
          "metadata": {},
          "execution_count": 20
        },
        {
          "output_type": "display_data",
          "data": {
            "text/plain": [
              "<Figure size 640x480 with 1 Axes>"
            ],
            "image/png": "[encoded data removed]"
          },
          "metadata": {}
        }
      ]
    },
    {
      "cell_type": "code",
      "source": [
        "# By default the threshold is 0.5. Label is 1 for greater than 0.5 and 0 for less than 0.5\n",
        "# Here, It is changed to 0.48 for better classification\n",
        "\n",
        "y_predict = (model.predict_proba(X_test)[:, 1] >= 0.48).astype(int)\n",
        "\n",
        "y_pred_class = []\n",
        "for i in range(len(y_pred)):\n",
        "  if y_predict[i] == 1:\n",
        "    y_pred_class.append('Malignant')\n",
        "  else:\n",
        "    y_pred_class.append('Benign')"
      ],
      "metadata": {
        "id": "dPJZiAlZ3nLy"
      },
      "execution_count": null,
      "outputs": []
    },
    {
      "cell_type": "markdown",
      "source": [
        "#Evaluation\n",
        "\n",
        "Model gives the accuracy of 97.6% on the unseen data"
      ],
      "metadata": {
        "id": "8sVvTb_3Xrf0"
      }
    },
    {
      "cell_type": "code",
      "source": [
        "from sklearn.metrics import accuracy_score, confusion_matrix, ConfusionMatrixDisplay\n",
        "\n",
        "print(\"Accuracy:\", accuracy_score(Y_test, y_pred_class))                        # It return the accuracy score\n",
        "\n",
        "matrix = confusion_matrix(Y_test, y_pred_class)                                 # It creates the confusion matrix\n",
        "cm = ConfusionMatrixDisplay(matrix, display_labels = ['Benign', 'Maligant'])    # It displays the confusion matrix\n",
        "cm.plot()"
      ],
      "metadata": {
        "colab": {
          "base_uri": "https://localhost:8080/",
          "height": 484
        },
        "id": "NfQKXmG_l3Kb",
        "outputId": "a0c0faf8-7487-497c-e074-62c004a6d5e3"
      },
      "execution_count": null,
      "outputs": [
        {
          "output_type": "stream",
          "name": "stdout",
          "text": [
            "Accuracy: 0.9766081871345029\n"
          ]
        },
        {
          "output_type": "execute_result",
          "data": {
            "text/plain": [
              "<sklearn.metrics._plot.confusion_matrix.ConfusionMatrixDisplay at 0x7c217adf2fb0>"
            ]
          },
          "metadata": {},
          "execution_count": 22
        },
        {
          "output_type": "display_data",
          "data": {
            "text/plain": [
              "<Figure size 640x480 with 2 Axes>"
            ],
            "image/png": "[encoded data removed]"
          },
          "metadata": {}
        }
      ]
    }
  ]
}